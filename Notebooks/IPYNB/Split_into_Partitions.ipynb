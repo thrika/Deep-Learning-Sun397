{
 "cells": [
  {
   "cell_type": "code",
   "execution_count": null,
   "metadata": {},
   "outputs": [],
   "source": [
    "import numpy as np\n",
    "\n",
    "import os\n",
    "from csv import reader\n",
    "\n",
    "import os\n",
    "import shutil,sys"
   ]
  },
  {
   "cell_type": "code",
   "execution_count": null,
   "metadata": {},
   "outputs": [],
   "source": [
    "def load_file(filename):\n",
    "    file = open(filename, \"r\")\n",
    "    lines = reader(file)\n",
    "    data = list(lines)\n",
    "    \n",
    "    array = []\n",
    "    \n",
    "    for row in range(len(data)):\n",
    "        for rrow in range(len(data[row])):\n",
    "            array.append(data[row][rrow])\n",
    "    \n",
    "    return array"
   ]
  },
  {
   "cell_type": "code",
   "execution_count": null,
   "metadata": {},
   "outputs": [],
   "source": [
    "fnums = ['1','2','3','4','5','6','7','8','9','10']\n",
    "\n",
    "for x in range (10):\n",
    "    \n",
    "    train_path = r'Training_'+fnums[x]+'.txt'\n",
    "    train_names_array = load_file(train_path)\n",
    "\n",
    "    test_path = r'Testing_'+fnums[x]+'.txt'\n",
    "    test_names_array = load_file(test_path)\n",
    "\n",
    "    i=0\n",
    "    \n",
    "    while(i<len(train_names_array)):\n",
    "        \n",
    "        copyfile=train_names_array[i]\n",
    "        j=train_names_array[i].rsplit('/',1)\n",
    "        splitted='split'+fnums[x]\n",
    "        \n",
    "        try:\n",
    "            os.makedirs(splitted+'/train/'+j[0][1:])\n",
    "        except FileExistsError:\n",
    "            pass\n",
    "        destpth = splitted+'/train'+train_names_array[i]\n",
    "        shutil.copy(copyfile[1:], destpth)\n",
    "        \n",
    "        i+=1\n",
    "        \n",
    "    k=0\n",
    "    \n",
    "    while(k<len(test_names_array)):\n",
    "        \n",
    "        copyfile=test_names_array[k]\n",
    "        j=test_names_array[k].rsplit('/',1)\n",
    "        splitted='split'+fnums[x]\n",
    "        \n",
    "        try:\n",
    "            os.makedirs(splitted+'/test/'+j[0][1:])\n",
    "        except FileExistsError:\n",
    "            pass\n",
    "        destpth = splitted+'/test'+test_names_array[k]\n",
    "        shutil.copy(copyfile[1:], destpth)\n",
    "        \n",
    "        k+=1"
   ]
  },
  {
   "cell_type": "code",
   "execution_count": null,
   "metadata": {},
   "outputs": [],
   "source": []
  }
 ],
 "metadata": {
  "kernelspec": {
   "display_name": "Python 3",
   "language": "python",
   "name": "python3"
  },
  "language_info": {
   "codemirror_mode": {
    "name": "ipython",
    "version": 3
   },
   "file_extension": ".py",
   "mimetype": "text/x-python",
   "name": "python",
   "nbconvert_exporter": "python",
   "pygments_lexer": "ipython3",
   "version": "3.7.5"
  }
 },
 "nbformat": 4,
 "nbformat_minor": 4
}
